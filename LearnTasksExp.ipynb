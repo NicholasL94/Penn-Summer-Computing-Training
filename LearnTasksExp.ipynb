{
 "cells": [
  {
   "cell_type": "code",
   "execution_count": 1,
   "id": "1e2cf503-61c8-407c-b892-40d319a4540e",
   "metadata": {},
   "outputs": [
    {
     "name": "stdout",
     "output_type": "stream",
     "text": [
      "Using matplotlib backend: Qt5Agg\n",
      "Populating the interactive namespace from numpy and matplotlib\n"
     ]
    },
    {
     "name": "stderr",
     "output_type": "stream",
     "text": [
      "QStandardPaths: wrong ownership on runtime directory /mnt/wslg/runtime-dir, 1000 instead of 0\n"
     ]
    }
   ],
   "source": [
    "%pylab\n",
    "%run LoadNetworkArgs.py 64 1 1  \n",
    "# arguments are: Network size (# Nodes, 64, 128 or 256), Network index (integer for different networks), Random seed (integer)\n",
    "\n",
    "import warnings\n",
    "warnings.filterwarnings(\"ignore\")"
   ]
  },
  {
   "cell_type": "markdown",
   "id": "398916c0-b015-48ec-80af-047251f363cf",
   "metadata": {},
   "source": [
    "# Set sources and targets"
   ]
  },
  {
   "cell_type": "code",
   "execution_count": 2,
   "id": "d9f3dae8-1a52-4f96-9497-080cb0da9720",
   "metadata": {},
   "outputs": [],
   "source": [
    "# set input and output\n",
    "sources = 10    # number of source nodes\n",
    "targets = 3     # number of target nodes\n",
    "\n",
    "# select nodes for inputs and outputs\n",
    "RNodes = np.random.choice(arange(NN-1), size=sources+targets, replace=False)  # Source and target nodes together\n",
    "KNodes = list(set(arange(NN)) - set(RNodes))\n",
    "SourceNodes = RNodes[:sources]     # Source node indices\n",
    "TargetNodes = RNodes[sources:]     # Target node indices\n",
    "GroundNode = [NN-1]                # Ground nodes is the node in the last index\n",
    "\n",
    "Data = randn(1,sources)               # Source values\n",
    "Comp = randn(targets) * sum(Data)/5.  # Target values\n"
   ]
  },
  {
   "cell_type": "markdown",
   "id": "1d37a7f2-6563-4b16-9d0b-3be41a14c521",
   "metadata": {},
   "source": [
    "# Train network"
   ]
  },
  {
   "cell_type": "code",
   "execution_count": 3,
   "id": "9711bb9d-464c-45c8-9a47-4c96edbb0e59",
   "metadata": {},
   "outputs": [],
   "source": [
    "# Set all conductance values to 1\n",
    "K = ones(NE)\n",
    "\n",
    "# Compute all pressures given inputs and resistance values\n",
    "P = GetPs(Data, SourceNodes, K)\n",
    "\n",
    "# Compute all pressure drops over edges\n",
    "DP = DM.dot(P)\n"
   ]
  },
  {
   "cell_type": "code",
   "execution_count": 4,
   "id": "184a9e02-c61f-40fa-b4a0-cd4e4e9436f2",
   "metadata": {},
   "outputs": [],
   "source": [
    "Kticks = 512                                        # Number of discrete conductance values\n",
    "KVals = linspace(2./Kticks,2.,Kticks)               # Discrete, equally spaced conductance values between 2./Kticks and 2.\n",
    "dkv = KVals[1]-KVals[0]                             # Discrete spacing value\n",
    "KInds = ones(NE,dtype=int) * (Kticks//2 - 1)        # Set all conductance values to the middle of ths scale K=1"
   ]
  },
  {
   "cell_type": "code",
   "execution_count": 5,
   "id": "49a9f974-1781-40c9-ad10-5f9787e8b1a7",
   "metadata": {},
   "outputs": [
    {
     "name": "stdout",
     "output_type": "stream",
     "text": [
      "0 0.5837352030284657\n",
      "10 0.5438261269640272\n",
      "20 0.5051374811026403\n",
      "30 0.4677825791110701\n",
      "40 0.43155580634422047\n",
      "50 0.3965256879043387\n",
      "60 0.362855534589569\n",
      "70 0.3306378096043885\n",
      "80 0.29996755683342363\n",
      "90 0.2709400447988496\n",
      "100 0.2436351281394774\n",
      "110 0.21807474015525463\n",
      "120 0.1941241170302294\n",
      "130 0.1717490212430078\n",
      "140 0.1504646315296153\n",
      "150 0.13036274843505802\n",
      "160 0.1111586665632893\n",
      "170 0.09234342588741293\n",
      "180 0.07407321970661232\n",
      "190 0.05631521621910136\n",
      "200 0.03983213188696904\n",
      "210 0.025851871907289686\n",
      "220 0.015202522612751838\n",
      "230 0.007184687679036353\n",
      "240 0.0019795769718328714\n",
      "250 2.8207146756931497e-05\n",
      "260 2.6974763192150027e-05\n",
      "270 2.6703835368593474e-05\n",
      "280 2.6457922379008856e-05\n",
      "290 2.621086976927988e-05\n",
      "300 2.5963681000263286e-05\n",
      "310 2.571585524425666e-05\n",
      "320 2.5466926517651812e-05\n",
      "330 2.5217151774812142e-05\n",
      "340 2.5085461757001794e-05\n",
      "350 2.498218979729089e-05\n",
      "360 2.4877576658202017e-05\n",
      "370 2.4790822131317236e-05\n",
      "380 2.470691224372895e-05\n",
      "390 2.462091045419797e-05\n",
      "400 2.4532955366958482e-05\n"
     ]
    }
   ],
   "source": [
    "Steps = 401        # Number of iterations\n",
    "eta = 1.e-3        # Nudge parameter for clamped state\n",
    "printEvery = 10    # Set number of steps between prints\n",
    "\n",
    "KFInds = ones(NE,dtype=int) * (Kticks//2 - 1)      # Set all free conductance values to the middle of ths scale K=1\n",
    "KCInds = ones(NE,dtype=int) * (Kticks//2 - 1)      # Set all clamped conductance values to the middle of ths scale K=1\n",
    "KF = KVals[KFInds]                                 # Free network conductance values for current iteration\n",
    "KC = KVals[KCInds]                                 # Free network conductance values for current iteration\n",
    "\n",
    "Costs = zeros(Steps)\n",
    "# Compute cost function at time t=0\n",
    "CEq = CostSingleK(Data, SourceNodes, TargetNodes, KF, Comp)\n",
    "Costs[0] = CEq\n",
    "\n",
    "print(0, CEq)\n",
    "\n",
    "for steps in range(1,Steps):\n",
    "    # exp coupled learning\n",
    "    KF = KVals[KFInds]   # Free conductance values for current iteration\n",
    "    KC = KVals[KCInds]   # Clamped conductance values for current iteration\n",
    "\n",
    "    # Free state computation\n",
    "    PF = GetPs(Data, SourceNodes, KF)\n",
    "    DPF = DM.dot(PF)\n",
    "    PPF = DPF**2.   # Squared pressure drops\n",
    "    #PPF = abs(DPF)\n",
    "\n",
    "    # Compute the target values for the free state\n",
    "    FreeTargets = PF[TargetNodes]\n",
    "    \n",
    "    # Define the nudge for the clamped state\n",
    "    Nudge = (1. - eta) * FreeTargets + eta * Comp\n",
    "\n",
    "    # Clamped state computations\n",
    "    InpNudge = r_[Data[0], Nudge]    # inputs and nudge values together\n",
    "    PC = GetPs(InpNudge, RNodes, KC)\n",
    "    DPC = DM.dot(PC)\n",
    "    PPC = DPC**2.   # Squared pressure drops\n",
    "    #PPC = abs(DPC)\n",
    "\n",
    "    # Coupled learning rule\n",
    "    DKE = + PPC - PPF\n",
    "    # Discretized rule according to signs only, change the index vector for each edge by +- 1\n",
    "    DI = array(sign(DKE),dtype=int)\n",
    "    KFInds = KFInds - DI\n",
    "    KFInds = KFInds.clip(0,Kticks-1)   # Avoid clipping beyond the range of conductance values\n",
    "    KCInds = KCInds - DI\n",
    "    KCInds = KCInds.clip(0,Kticks-1)   # Avoid clipping beyond the range of conductance values\n",
    "    NK = KVals[KFInds]                 # New conductance values\n",
    "    CDK = norm(NK - KF)                # Magnitude of change in conductance\n",
    "    KF = NK.copy()                     # Set new conductance values\n",
    "\n",
    "    CEq = CostSingleK(Data, SourceNodes, TargetNodes, KF, Comp)\n",
    "    Costs[steps] = CEq\n",
    "\n",
    "\n",
    "    if steps%printEvery == 0:\n",
    "        CEq = CostSingleK(Data, SourceNodes, TargetNodes, KF, Comp)\n",
    "        print(steps, CEq)\n",
    "\n",
    "\n"
   ]
  },
  {
   "cell_type": "code",
   "execution_count": 6,
   "id": "c089effc-fb93-4331-bf78-2855472ca278",
   "metadata": {},
   "outputs": [],
   "source": [
    "figure(figsize=(8,6))   # Define figure\n",
    "T = arange(Steps)       # Time axis\n",
    "plot(T, Costs, lw=2)\n",
    "\n",
    "xlabel('Steps', size=16)\n",
    "ylabel('Error', size=16)\n",
    "xticks(size=16)\n",
    "yticks(size=16)\n",
    "\n",
    "yscale('log')"
   ]
  },
  {
   "cell_type": "markdown",
   "id": "777f93fd-9832-4087-8b7c-db875d936fb6",
   "metadata": {},
   "source": [
    "# Draw network"
   ]
  },
  {
   "cell_type": "code",
   "execution_count": 43,
   "id": "3c0e9c1a-2a6e-4ff3-8d69-bd7c46a72ae6",
   "metadata": {},
   "outputs": [],
   "source": [
    "import networkx as nx\n",
    "\n",
    "Edges = c_[EI, EJ]\n",
    "G = nx.from_edgelist(Edges)\n",
    "\n",
    "NodeCols = array(['#000000']*NN)\n",
    "NodeCols[SourceNodes] = '#d62728'\n",
    "NodeCols[TargetNodes] = '#1f77b4'\n",
    "NodeCols[GroundNode] = '#7f7f7f'\n",
    "\n",
    "NodeSizes = array([100]*NN)\n",
    "NodeSizes[SourceNodes] = 200\n",
    "NodeSizes[TargetNodes] = 200\n",
    "NodeSizes[GroundNode] = 200\n",
    "\n",
    "# draw network with edge widths proportional to conductance values\n",
    "figure(figsize=(8,6))\n",
    "nx.draw(G, pos=nx.spring_layout(G, seed=100), width=KF, node_size=NodeSizes, node_color=NodeCols)\n"
   ]
  }
 ],
 "metadata": {
  "kernelspec": {
   "display_name": "Python 3 (ipykernel)",
   "language": "python",
   "name": "python3"
  },
  "language_info": {
   "codemirror_mode": {
    "name": "ipython",
    "version": 3
   },
   "file_extension": ".py",
   "mimetype": "text/x-python",
   "name": "python",
   "nbconvert_exporter": "python",
   "pygments_lexer": "ipython3",
   "version": "3.9.7"
  }
 },
 "nbformat": 4,
 "nbformat_minor": 5
}
